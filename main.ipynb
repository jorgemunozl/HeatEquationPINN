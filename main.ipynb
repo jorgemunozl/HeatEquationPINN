{
 "cells": [
  {
   "cell_type": "code",
   "execution_count": null,
   "id": "20503699",
   "metadata": {
    "vscode": {
     "languageId": "plaintext"
    }
   },
   "outputs": [],
   "source": [
    "import torch"
   ]
  },
  {
   "cell_type": "code",
   "execution_count": null,
   "id": "29001a53",
   "metadata": {
    "vscode": {
     "languageId": "plaintext"
    }
   },
   "outputs": [],
   "source": [
    "x = torch.linspace(10)"
   ]
  },
  {
   "cell_type": "code",
   "execution_count": null,
   "id": "13ff2edc",
   "metadata": {
    "vscode": {
     "languageId": "plaintext"
    }
   },
   "outputs": [],
   "source": []
  }
 ],
 "metadata": {
  "language_info": {
   "name": "python"
  }
 },
 "nbformat": 4,
 "nbformat_minor": 5
}
